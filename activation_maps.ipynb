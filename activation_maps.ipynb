{
  "nbformat": 4,
  "nbformat_minor": 0,
  "metadata": {
    "colab": {
      "name": "activation-maps.ipynb",
      "provenance": [],
      "collapsed_sections": []
    },
    "kernelspec": {
      "name": "python3",
      "display_name": "Python 3"
    },
    "accelerator": "GPU"
  },
  "cells": [
    {
      "cell_type": "code",
      "metadata": {
        "id": "-8-z_i27JMlu",
        "colab_type": "code",
        "colab": {}
      },
      "source": [
        "%tensorflow_version 2.x "
      ],
      "execution_count": 0,
      "outputs": []
    },
    {
      "cell_type": "code",
      "metadata": {
        "id": "NzIrXa5THHWz",
        "colab_type": "code",
        "colab": {}
      },
      "source": [
        "import cv2\n",
        "import matplotlib.pyplot as plt\n",
        "import tensorflow as tf\n",
        "\n",
        "from tensorflow.keras.applications.resnet50 import decode_predictions, preprocess_input"
      ],
      "execution_count": 0,
      "outputs": []
    },
    {
      "cell_type": "code",
      "metadata": {
        "id": "Um0AGw9kJfPl",
        "colab_type": "code",
        "colab": {}
      },
      "source": [
        "resnet_50 = tf.keras.applications.ResNet50(input_shape=(224, 224, 3),\n",
        "                                       include_top=False,\n",
        "                                       weights='imagenet')"
      ],
      "execution_count": 0,
      "outputs": []
    },
    {
      "cell_type": "code",
      "metadata": {
        "id": "uB2_eNgCJn5P",
        "colab_type": "code",
        "colab": {}
      },
      "source": [
        "!wget https://i.ytimg.com/vi/plFCDMQLGpw/hqdefault.jpg -O img.jpg\n",
        "\n",
        "\n",
        "\n"
      ],
      "execution_count": 0,
      "outputs": []
    },
    {
      "cell_type": "code",
      "metadata": {
        "id": "ImTMDWvSKOdr",
        "colab_type": "code",
        "colab": {}
      },
      "source": [
        "img = cv2.imread(\"img.jpg\")[:,:,::-1] # strange syntax necessary to preserve color info\n",
        "print(img.shape)"
      ],
      "execution_count": 0,
      "outputs": []
    },
    {
      "cell_type": "code",
      "metadata": {
        "id": "0f_E4Na7J4tT",
        "colab_type": "code",
        "colab": {}
      },
      "source": [
        "img = cv2.resize(img, (224, 224))\n",
        "ax = plt.imshow(img)"
      ],
      "execution_count": 0,
      "outputs": []
    },
    {
      "cell_type": "code",
      "metadata": {
        "id": "XrnnpsEnJ7gb",
        "colab_type": "code",
        "colab": {}
      },
      "source": [
        "def preprocess(img):\n",
        "  # use the pre processing function of ResNet50 \n",
        "  img = preprocess_input(img)\n",
        "  \n",
        "  # create a batch\n",
        "  return tf.expand_dims(img, 0)\n",
        "\n",
        "def preprocess2(img):\n",
        "  img = img / 127.5\n",
        "  img -= 1\n",
        "  return tf.expand_dims(img, 0)"
      ],
      "execution_count": 0,
      "outputs": []
    },
    {
      "cell_type": "code",
      "metadata": {
        "id": "z8EOG4IqKy-6",
        "colab_type": "code",
        "colab": {}
      },
      "source": [
        "input_img = preprocess(img)\n",
        "print(input_img.shape)\n",
        "\n",
        "resnet_50_top = tf.keras.applications.ResNet50(input_shape=(224, 224, 3),\n",
        "                                       include_top=True,\n",
        "                                       weights='imagenet')\n",
        "\n",
        "preds = resnet_50_top.predict(input_img)\n",
        "print('Predicted:', decode_predictions(preds, top=3)[0])"
      ],
      "execution_count": 0,
      "outputs": []
    },
    {
      "cell_type": "code",
      "metadata": {
        "id": "Ul6EuK5NK3LC",
        "colab_type": "code",
        "colab": {}
      },
      "source": [
        "def get_activations(img, i):\n",
        "  print(resnet_50)\n",
        "  layer = resnet_50.layers[i]\n",
        "  model = tf.keras.models.Model(inputs=resnet_50.inputs, outputs=layer.output)\n",
        "  return model.predict(img)"
      ],
      "execution_count": 0,
      "outputs": []
    },
    {
      "cell_type": "code",
      "metadata": {
        "id": "S84WxQy7M8zf",
        "colab_type": "code",
        "colab": {}
      },
      "source": [
        "acts = get_activations(input_img, 2)"
      ],
      "execution_count": 0,
      "outputs": []
    },
    {
      "cell_type": "code",
      "metadata": {
        "id": "5RV1fDgQNl2X",
        "colab_type": "code",
        "colab": {}
      },
      "source": [
        "def postprocess_activations(acts):\n",
        "  #using the approach in https://arxiv.org/abs/1612.03928\n",
        "  output = tf.abs(acts)\n",
        "  output = tf.reduce_sum(output, axis=-1)\n",
        "  output = tf.squeeze(output)\n",
        "\n",
        "  #resize and convert to image \n",
        "  output = cv2.resize(output.numpy(), (224, 224))\n",
        "  output /= tf.reduce_max(output)\n",
        "  output *= 255\n",
        "  return 255 - tf.cast(output, tf.uint8)"
      ],
      "execution_count": 0,
      "outputs": []
    },
    {
      "cell_type": "code",
      "metadata": {
        "id": "iMYELTPRO5Fm",
        "colab_type": "code",
        "colab": {}
      },
      "source": [
        "pa = postprocess_activations(acts)"
      ],
      "execution_count": 0,
      "outputs": []
    },
    {
      "cell_type": "code",
      "metadata": {
        "id": "CX5R-N25O696",
        "colab_type": "code",
        "colab": {}
      },
      "source": [
        "def apply_heatmap(weights, img):\n",
        "  heatmap = cv2.applyColorMap(weights, cv2.COLORMAP_JET)\n",
        "  heatmap = cv2.addWeighted(heatmap, 0.7, img, 0.3, 0)\n",
        "  return heatmap"
      ],
      "execution_count": 0,
      "outputs": []
    },
    {
      "cell_type": "code",
      "metadata": {
        "id": "FfkgkiK3Qk3Y",
        "colab_type": "code",
        "colab": {}
      },
      "source": [
        " heatmap = apply_heatmap(pa.numpy(), img)"
      ],
      "execution_count": 0,
      "outputs": []
    },
    {
      "cell_type": "code",
      "metadata": {
        "id": "i6bmBMp3QoLR",
        "colab_type": "code",
        "colab": {}
      },
      "source": [
        "plt.axis('off')\n",
        "ax = plt.imshow(heatmap)"
      ],
      "execution_count": 0,
      "outputs": []
    }
  ]
}