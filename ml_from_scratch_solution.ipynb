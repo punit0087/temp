{
  "nbformat": 4,
  "nbformat_minor": 0,
  "metadata": {
    "colab": {
      "name": "ml-from-scratch-solution.ipynb",
      "provenance": [],
      "collapsed_sections": []
    },
    "kernelspec": {
      "name": "python3",
      "display_name": "Python 3"
    }
  },
  "cells": [
    {
      "cell_type": "code",
      "metadata": {
        "id": "Fl_K9InITUXY",
        "colab_type": "code",
        "colab": {}
      },
      "source": [
        "# weight (grams)\n",
        "# radius (mm)\n",
        "# texture (0 -> smooth, 1-> bumpy)\n",
        "# label (apple, orange, banana)\n",
        "dataset = [[90, 25, 0, \"apple\"],\n",
        "           [110, 30, 0, \"apple\"],\n",
        "           [120, 30, 1, \"orange\"],\n",
        "           [140, 40, 1, \"orange\"], \n",
        "           [120, 50, 0, \"banana\"], \n",
        "           [170, 40, 0, \"banana\"]]"
      ],
      "execution_count": 0,
      "outputs": []
    },
    {
      "cell_type": "code",
      "metadata": {
        "id": "leeGRbZbVWkg",
        "colab_type": "code",
        "colab": {}
      },
      "source": [
        "examples = [row[:-1] for row in dataset]\n",
        "#print(examples)"
      ],
      "execution_count": 0,
      "outputs": []
    },
    {
      "cell_type": "code",
      "metadata": {
        "id": "7XRxst6MU3aU",
        "colab_type": "code",
        "colab": {}
      },
      "source": [
        "labels = [row[-1] for row in dataset]\n",
        "#print(labels)"
      ],
      "execution_count": 0,
      "outputs": []
    },
    {
      "cell_type": "markdown",
      "metadata": {
        "id": "DdnK6SREVuMa",
        "colab_type": "text"
      },
      "source": [
        "### Using a library"
      ]
    },
    {
      "cell_type": "code",
      "metadata": {
        "id": "hTqCx3vlUmK4",
        "colab_type": "code",
        "colab": {}
      },
      "source": [
        "from sklearn.neighbors import KNeighborsClassifier\n",
        "clf = KNeighborsClassifier(n_neighbors=1)\n",
        "_ = clf.fit(examples, labels) "
      ],
      "execution_count": 0,
      "outputs": []
    },
    {
      "cell_type": "code",
      "metadata": {
        "id": "VLw5QV4abQPA",
        "colab_type": "code",
        "colab": {}
      },
      "source": [
        "preds = clf.predict(examples)"
      ],
      "execution_count": 0,
      "outputs": []
    },
    {
      "cell_type": "code",
      "metadata": {
        "id": "wmjyTlAkbTSK",
        "colab_type": "code",
        "colab": {}
      },
      "source": [
        "from sklearn.metrics import accuracy_score"
      ],
      "execution_count": 0,
      "outputs": []
    },
    {
      "cell_type": "code",
      "metadata": {
        "id": "YdId7_QBbbJh",
        "colab_type": "code",
        "colab": {}
      },
      "source": [
        "accuracy_score(labels, preds)"
      ],
      "execution_count": 0,
      "outputs": []
    },
    {
      "cell_type": "code",
      "metadata": {
        "id": "tleSROEpVcnA",
        "colab_type": "code",
        "colab": {}
      },
      "source": [
        "new_example = [130, 40, 1] # an orange\n",
        "#print(clf.predict([new_example]))"
      ],
      "execution_count": 0,
      "outputs": []
    },
    {
      "cell_type": "markdown",
      "metadata": {
        "id": "H2WoePjRVvdA",
        "colab_type": "text"
      },
      "source": [
        "### From scratch"
      ]
    },
    {
      "cell_type": "code",
      "metadata": {
        "id": "Oct2FzDbVrOV",
        "colab_type": "code",
        "colab": {}
      },
      "source": [
        "from scipy.spatial import distance \n",
        "\n",
        "class MyClassifier():\n",
        "\n",
        "  def fit(self, examples, labels):\n",
        "    self.examples = examples\n",
        "    self.labels = labels\n",
        "\n",
        "  def distance(self, a, b):\n",
        "    return distance.euclidean(a, b)\n",
        "\n",
        "  def predict(self, test_example):\n",
        "    best_label = None\n",
        "    best_distance = float(\"inf\")\n",
        "    for i in range(len(self.examples)):\n",
        "      distance = self.distance(self.examples[i], test_example)\n",
        "      if distance < best_distance:\n",
        "        best_distance = distance\n",
        "        best_label = self.labels[i]\n",
        "    return best_label"
      ],
      "execution_count": 0,
      "outputs": []
    },
    {
      "cell_type": "code",
      "metadata": {
        "id": "WIj1D4tTWm4V",
        "colab_type": "code",
        "colab": {}
      },
      "source": [
        "clf = MyClassifier()\n",
        "_ = clf.fit(examples, labels) \n",
        "new_example = [130, 40, 1] # an orange\n",
        "print(clf.predict(new_example))"
      ],
      "execution_count": 0,
      "outputs": []
    }
  ]
}