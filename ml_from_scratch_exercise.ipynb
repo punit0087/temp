{
  "nbformat": 4,
  "nbformat_minor": 0,
  "metadata": {
    "colab": {
      "name": "ml-from-scratch-exercise.ipynb",
      "provenance": [],
      "collapsed_sections": []
    },
    "kernelspec": {
      "name": "python3",
      "display_name": "Python 3"
    }
  },
  "cells": [
    {
      "cell_type": "markdown",
      "metadata": {
        "id": "7_-vyXYeZWId",
        "colab_type": "text"
      },
      "source": [
        "### Create a small dataset\n",
        "First, create a small dataset with 5-7 examples. Each row should describe a piece of fruit. The columns are your features. I'd suggest using two numeric features: weight (grams), radius (mm), and one categorical feature - texture (either 0, for smooth, or 1, for bumpy). The last column gives the label of the fruit (either apple, orange, or banana)."
      ]
    },
    {
      "cell_type": "code",
      "metadata": {
        "id": "Fl_K9InITUXY",
        "colab_type": "code",
        "colab": {}
      },
      "source": [
        "# Your code here\n",
        "# Create a small dataset\n",
        "# The format should be a list of lists\n",
        "dataset = [[90, 25, 0, \"apple\"], \n",
        "           # Your code here\n",
        "           # Your code here\n",
        "           # Your code here\n",
        "           # ...\n",
        "           ]"
      ],
      "execution_count": 0,
      "outputs": []
    },
    {
      "cell_type": "code",
      "metadata": {
        "id": "leeGRbZbVWkg",
        "colab_type": "code",
        "colab": {}
      },
      "source": [
        "# Normally, we keep the examples and labels in a separate objects\n",
        "# This block of code will separate them\n",
        "examples = [row[:-1] for row in dataset]\n",
        "labels = [row[-1] for row in dataset]\n",
        "print(examples)\n",
        "print(labels)"
      ],
      "execution_count": 0,
      "outputs": []
    },
    {
      "cell_type": "markdown",
      "metadata": {
        "id": "DdnK6SREVuMa",
        "colab_type": "text"
      },
      "source": [
        "### Using a library\n",
        "\n",
        "Before you write your kNN model from scratch, let's see how built-in classifier works on your dataset."
      ]
    },
    {
      "cell_type": "code",
      "metadata": {
        "id": "hTqCx3vlUmK4",
        "colab_type": "code",
        "colab": {}
      },
      "source": [
        "from sklearn.neighbors import KNeighborsClassifier\n",
        "clf = KNeighborsClassifier(n_neighbors=1)\n",
        "_ = clf.fit(examples, labels) "
      ],
      "execution_count": 0,
      "outputs": []
    },
    {
      "cell_type": "markdown",
      "metadata": {
        "id": "2QcIw-5_buma",
        "colab_type": "text"
      },
      "source": [
        "Make predictions on the training set."
      ]
    },
    {
      "cell_type": "code",
      "metadata": {
        "id": "aY4JS0YPbiLz",
        "colab_type": "code",
        "colab": {}
      },
      "source": [
        "preds = clf.predict(examples)\n",
        "print(preds)"
      ],
      "execution_count": 0,
      "outputs": []
    },
    {
      "cell_type": "markdown",
      "metadata": {
        "id": "IpqGYirjbxdr",
        "colab_type": "text"
      },
      "source": [
        "Calculate your accuracy"
      ]
    },
    {
      "cell_type": "code",
      "metadata": {
        "id": "qA3rdIMqbkZK",
        "colab_type": "code",
        "colab": {}
      },
      "source": [
        "from sklearn.metrics import accuracy_score\n",
        "print(accuracy_score(labels, preds))"
      ],
      "execution_count": 0,
      "outputs": []
    },
    {
      "cell_type": "markdown",
      "metadata": {
        "id": "zpKsvhxnbKWF",
        "colab_type": "text"
      },
      "source": [
        "Create a new example, and predict the label"
      ]
    },
    {
      "cell_type": "code",
      "metadata": {
        "id": "tleSROEpVcnA",
        "colab_type": "code",
        "colab": {}
      },
      "source": [
        "new_example = [130, 40, 1] # an orange\n",
        "print(clf.predict([new_example]))"
      ],
      "execution_count": 0,
      "outputs": []
    },
    {
      "cell_type": "markdown",
      "metadata": {
        "id": "H2WoePjRVvdA",
        "colab_type": "text"
      },
      "source": [
        "### Writing your own classifier from scratch"
      ]
    },
    {
      "cell_type": "code",
      "metadata": {
        "id": "DCo8-VO4cK7W",
        "colab_type": "code",
        "colab": {}
      },
      "source": [
        "def euclidian(example_a, example_b):\n",
        "  # Your code here\n",
        "  # To check your work, you can compare against\n",
        "  # ```\n",
        "  # from scipy.spatial import distance  \n",
        "  # return distance.euclidean(example_a, example_b)\n",
        "  # ```"
      ],
      "execution_count": 0,
      "outputs": []
    },
    {
      "cell_type": "code",
      "metadata": {
        "id": "Oct2FzDbVrOV",
        "colab_type": "code",
        "colab": {}
      },
      "source": [
        "class MyClassifier():\n",
        "\n",
        "  def fit(self, examples, labels):\n",
        "    # Store the examples and labels\n",
        "    self.examples = examples\n",
        "    self.labels = labels\n",
        "\n",
        "  def predict(self, test_example):\n",
        "    # Your code here\n",
        "    # Implement the nearest neighbor algorithm to make a prediction\n",
        "    # 1. Loop over each example in self.examples\n",
        "    # 2. Calculate the euclidian distance from the test_example\n",
        "    # to each training example\n",
        "    # 3. Predict that the test example has the same label\n",
        "    # as the closest training example."
      ],
      "execution_count": 0,
      "outputs": []
    },
    {
      "cell_type": "markdown",
      "metadata": {
        "id": "yNcqsLm5cf_A",
        "colab_type": "text"
      },
      "source": [
        "Instantiate and train your model"
      ]
    },
    {
      "cell_type": "code",
      "metadata": {
        "id": "WIj1D4tTWm4V",
        "colab_type": "code",
        "colab": {}
      },
      "source": [
        "clf = MyClassifier()\n",
        "_ = clf.fit(examples, labels) "
      ],
      "execution_count": 0,
      "outputs": []
    },
    {
      "cell_type": "markdown",
      "metadata": {
        "id": "7sywpOjWciR_",
        "colab_type": "text"
      },
      "source": [
        "Make predictions on a new example. Are the results as you expect?"
      ]
    },
    {
      "cell_type": "code",
      "metadata": {
        "id": "ezEzEUU0cmA1",
        "colab_type": "code",
        "colab": {}
      },
      "source": [
        "new_example = [90, 25, 0] # an apple\n",
        "print(clf.predict(new_example))"
      ],
      "execution_count": 0,
      "outputs": []
    }
  ]
}