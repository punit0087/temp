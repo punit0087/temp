{
  "nbformat": 4,
  "nbformat_minor": 0,
  "metadata": {
    "colab": {
      "name": "decision-tree-exercise.ipynb",
      "provenance": [],
      "collapsed_sections": []
    },
    "kernelspec": {
      "name": "python3",
      "display_name": "Python 3"
    }
  },
  "cells": [
    {
      "cell_type": "markdown",
      "metadata": {
        "id": "fb7LNGcX6oDJ",
        "colab_type": "text"
      },
      "source": [
        "In this short notebook, you will practice training and reading a decision tree. First, explore the tree for a built-in dataset (iris). Next, write your own small dataset from scratch. Train a decision tree classifier on it, and visualize the tree. \n",
        "- Does the logic match your expectations?\n",
        "- Are the important features what you expect?"
      ]
    },
    {
      "cell_type": "code",
      "metadata": {
        "id": "XqCQP8S7fRkc",
        "colab_type": "code",
        "colab": {}
      },
      "source": [
        "import matplotlib.pyplot as plt\n",
        "\n",
        "from sklearn.datasets import load_iris\n",
        "from sklearn import tree"
      ],
      "execution_count": 0,
      "outputs": []
    },
    {
      "cell_type": "markdown",
      "metadata": {
        "id": "Zoi_oi8Gi_OG",
        "colab_type": "text"
      },
      "source": [
        "### Part one\n",
        "An example of using a built-in dataset, of splitting your dataset into train and test, of training a model, and evaluating accuracy."
      ]
    },
    {
      "cell_type": "code",
      "metadata": {
        "id": "afleTWFAh0tt",
        "colab_type": "code",
        "colab": {}
      },
      "source": [
        "iris = load_iris()\n",
        "examples = iris.data\n",
        "labels = iris.target"
      ],
      "execution_count": 0,
      "outputs": []
    },
    {
      "cell_type": "code",
      "metadata": {
        "id": "JbkNTx14iDll",
        "colab_type": "code",
        "colab": {}
      },
      "source": [
        "from sklearn.model_selection import train_test_split\n",
        "X_train, X_test, y_train, y_test = train_test_split(examples, labels, test_size=0.2)"
      ],
      "execution_count": 0,
      "outputs": []
    },
    {
      "cell_type": "code",
      "metadata": {
        "id": "B5W0YdqXiVi_",
        "colab_type": "code",
        "colab": {}
      },
      "source": [
        "print(len(X_train), len(X_test))"
      ],
      "execution_count": 0,
      "outputs": []
    },
    {
      "cell_type": "code",
      "metadata": {
        "id": "JjxFu_OjhuuU",
        "colab_type": "code",
        "colab": {}
      },
      "source": [
        "clf = tree.DecisionTreeClassifier(criterion=\"gini\") # Experiment with max_depth=2\n",
        "clf = clf.fit(X_train, y_train)"
      ],
      "execution_count": 0,
      "outputs": []
    },
    {
      "cell_type": "code",
      "metadata": {
        "id": "NKr3XXzahpJK",
        "colab_type": "code",
        "colab": {}
      },
      "source": [
        "fig = plt.figure()\n",
        "fig.set_size_inches((6,6))\n",
        "fig.set_dpi(200)\n",
        "_ = tree.plot_tree(clf, \n",
        "                   filled=True, \n",
        "                   class_names=iris.target_names) "
      ],
      "execution_count": 0,
      "outputs": []
    },
    {
      "cell_type": "markdown",
      "metadata": {
        "id": "HjT4uUNuil-2",
        "colab_type": "text"
      },
      "source": [
        "Evaluate how accurate your model is on the test set"
      ]
    },
    {
      "cell_type": "code",
      "metadata": {
        "id": "eF_8oBF5insv",
        "colab_type": "code",
        "colab": {}
      },
      "source": [
        "from sklearn.metrics import accuracy_score\n",
        "y_pred = clf.predict(X_test)\n",
        "print(accuracy_score(y_test, y_pred))"
      ],
      "execution_count": 0,
      "outputs": []
    },
    {
      "cell_type": "code",
      "metadata": {
        "id": "VSAaHmTBi0hJ",
        "colab_type": "code",
        "colab": {}
      },
      "source": [
        "from sklearn.metrics import confusion_matrix\n",
        "confusion_matrix(y_test, y_pred)"
      ],
      "execution_count": 0,
      "outputs": []
    },
    {
      "cell_type": "markdown",
      "metadata": {
        "id": "YgFHZf-Ji-WJ",
        "colab_type": "text"
      },
      "source": [
        "### Part two: Create your own dataset, then train and visualize a tree\n",
        "Train and visualize a tree as above. Questions to think about:\n",
        "- Does the logic in the tree match your expectations?\n",
        "- Are the important features what you expect?\n",
        "- Compare the accuracy of your tree on the train and test set.\n",
        "- How accurate is your model on the test set? \n",
        "- If the accuracy does not match that of the training set, why?"
      ]
    },
    {
      "cell_type": "code",
      "metadata": {
        "id": "jWZLyiFXfG6v",
        "colab_type": "code",
        "colab": {}
      },
      "source": [
        "dataset = [[90, 25, 0, \"apple\"],\n",
        "           [110, 30, 0, \"apple\"],\n",
        "           [100, 30, 0, \"apple\"],\n",
        "           [120, 30, 1, \"orange\"],\n",
        "           [140, 40, 1, \"orange\"], \n",
        "           [120, 50, 0, \"banana\"], \n",
        "           [170, 40, 0, \"banana\"]]\n",
        "\n",
        "feature_names = [\"weight\", \"radius\", \"bumpy\"]"
      ],
      "execution_count": 0,
      "outputs": []
    },
    {
      "cell_type": "code",
      "metadata": {
        "id": "bRoENxcbfKa_",
        "colab_type": "code",
        "colab": {}
      },
      "source": [
        "examples = [row[:-1] for row in dataset]\n",
        "labels = [row[-1] for row in dataset]"
      ],
      "execution_count": 0,
      "outputs": []
    },
    {
      "cell_type": "code",
      "metadata": {
        "id": "gg3pjEWPfMYa",
        "colab_type": "code",
        "colab": {}
      },
      "source": [
        "# This block of code will convert your labels\n",
        "# into an appropriate format for the tree\n",
        "from sklearn import preprocessing\n",
        "le = preprocessing.LabelEncoder()\n",
        "le.fit(labels)\n",
        "print(list(le.classes_))\n",
        "labels = le.transform(labels)\n",
        "print(labels)"
      ],
      "execution_count": 0,
      "outputs": []
    },
    {
      "cell_type": "code",
      "metadata": {
        "id": "KmRVu7EbjeZE",
        "colab_type": "code",
        "colab": {}
      },
      "source": [
        "# Your code here\n",
        "# Train and visualize a tree, and explore the questions above"
      ],
      "execution_count": 0,
      "outputs": []
    }
  ]
}