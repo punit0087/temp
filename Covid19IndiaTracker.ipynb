{
  "nbformat": 4,
  "nbformat_minor": 0,
  "metadata": {
    "kernelspec": {
      "display_name": "Python 3",
      "language": "python",
      "name": "python3"
    },
    "language_info": {
      "codemirror_mode": {
        "name": "ipython",
        "version": 3
      },
      "file_extension": ".py",
      "mimetype": "text/x-python",
      "name": "python",
      "nbconvert_exporter": "python",
      "pygments_lexer": "ipython3",
      "version": "3.7.4"
    },
    "colab": {
      "name": "Covid19IndiaTracker.ipynb",
      "provenance": [],
      "collapsed_sections": [],
      "include_colab_link": true
    }
  },
  "cells": [
    {
      "cell_type": "markdown",
      "metadata": {
        "id": "view-in-github",
        "colab_type": "text"
      },
      "source": [
        "<a href=\"https://colab.research.google.com/github/punit0087/temp/blob/master/Covid19IndiaTracker.ipynb\" target=\"_parent\"><img src=\"https://colab.research.google.com/assets/colab-badge.svg\" alt=\"Open In Colab\"/></a>"
      ]
    },
    {
      "cell_type": "code",
      "metadata": {
        "id": "2-Fzu2y2sPxm",
        "colab_type": "code",
        "colab": {}
      },
      "source": [
        "import numpy as np\n",
        "import pandas as pd"
      ],
      "execution_count": 0,
      "outputs": []
    },
    {
      "cell_type": "code",
      "metadata": {
        "id": "Y_VQz71csPxq",
        "colab_type": "code",
        "colab": {}
      },
      "source": [
        "from math import sin, cos, sqrt, atan2, radians\n",
        "\n",
        "def get_distance_between_lats_lons(lat1,lon1,lat2,lon2):\n",
        "# approximate radius of earth in km\n",
        "        R = 6373.0\n",
        "\n",
        "        lat1 = radians(lat1)\n",
        "        lon1 = radians(lon1)\n",
        "        lat2 = radians(lat2)\n",
        "        lon2 = radians(lon2)\n",
        "\n",
        "        dlon = lon2 - lon1\n",
        "        dlat = lat2 - lat1\n",
        "\n",
        "        a = sin(dlat / 2)**2 + cos(lat1) * cos(lat2) * sin(dlon / 2)**2\n",
        "        c = 2 * atan2(sqrt(a), sqrt(1 - a))\n",
        "\n",
        "        distance = R * c\n",
        "        return(distance)"
      ],
      "execution_count": 0,
      "outputs": []
    },
    {
      "cell_type": "code",
      "metadata": {
        "id": "itgX8WHAsPxt",
        "colab_type": "code",
        "outputId": "e610c8d9-b436-40b3-e59c-d93010d48428",
        "colab": {
          "base_uri": "https://localhost:8080/",
          "height": 643
        }
      },
      "source": [
        "file= 'IndiaPostalCodes.csv'\n",
        "city_wise_coordinates= pd.read_csv(file)\n",
        "city_wise_coordinates['City'] = city_wise_coordinates['City'].str.upper()\n",
        "city_wise_coordinates['District'] = city_wise_coordinates['District'].str.upper()\n",
        "city_wise_coordinates['State'] = city_wise_coordinates['State'].str.upper()\n",
        "city_wise_coordinates"
      ],
      "execution_count": 0,
      "outputs": [
        {
          "output_type": "execute_result",
          "data": {
            "text/html": [
              "<div>\n",
              "<style scoped>\n",
              "    .dataframe tbody tr th:only-of-type {\n",
              "        vertical-align: middle;\n",
              "    }\n",
              "\n",
              "    .dataframe tbody tr th {\n",
              "        vertical-align: top;\n",
              "    }\n",
              "\n",
              "    .dataframe thead th {\n",
              "        text-align: right;\n",
              "    }\n",
              "</style>\n",
              "<table border=\"1\" class=\"dataframe\">\n",
              "  <thead>\n",
              "    <tr style=\"text-align: right;\">\n",
              "      <th></th>\n",
              "      <th>Country</th>\n",
              "      <th>PIN</th>\n",
              "      <th>City</th>\n",
              "      <th>State</th>\n",
              "      <th>State_ID</th>\n",
              "      <th>District</th>\n",
              "      <th>District_ID</th>\n",
              "      <th>Community</th>\n",
              "      <th>Lat</th>\n",
              "      <th>Lng</th>\n",
              "      <th>Loc_accuracy</th>\n",
              "    </tr>\n",
              "  </thead>\n",
              "  <tbody>\n",
              "    <tr>\n",
              "      <th>0</th>\n",
              "      <td>IN</td>\n",
              "      <td>744301</td>\n",
              "      <td>MUS</td>\n",
              "      <td>ANDAMAN &amp; NICOBAR ISLANDS</td>\n",
              "      <td>1</td>\n",
              "      <td>NICOBAR</td>\n",
              "      <td>638.0</td>\n",
              "      <td>Carnicobar</td>\n",
              "      <td>9.2333</td>\n",
              "      <td>92.7833</td>\n",
              "      <td>4</td>\n",
              "    </tr>\n",
              "    <tr>\n",
              "      <th>1</th>\n",
              "      <td>IN</td>\n",
              "      <td>744301</td>\n",
              "      <td>KAKANA</td>\n",
              "      <td>ANDAMAN &amp; NICOBAR ISLANDS</td>\n",
              "      <td>1</td>\n",
              "      <td>NICOBAR</td>\n",
              "      <td>638.0</td>\n",
              "      <td>Carnicobar</td>\n",
              "      <td>9.1167</td>\n",
              "      <td>92.8000</td>\n",
              "      <td>4</td>\n",
              "    </tr>\n",
              "    <tr>\n",
              "      <th>2</th>\n",
              "      <td>IN</td>\n",
              "      <td>744301</td>\n",
              "      <td>SAWAI</td>\n",
              "      <td>ANDAMAN &amp; NICOBAR ISLANDS</td>\n",
              "      <td>1</td>\n",
              "      <td>NICOBAR</td>\n",
              "      <td>638.0</td>\n",
              "      <td>Carnicobar</td>\n",
              "      <td>7.5166</td>\n",
              "      <td>93.6031</td>\n",
              "      <td>4</td>\n",
              "    </tr>\n",
              "    <tr>\n",
              "      <th>3</th>\n",
              "      <td>IN</td>\n",
              "      <td>744301</td>\n",
              "      <td>CARNICOBAR</td>\n",
              "      <td>ANDAMAN &amp; NICOBAR ISLANDS</td>\n",
              "      <td>1</td>\n",
              "      <td>NICOBAR</td>\n",
              "      <td>638.0</td>\n",
              "      <td>Carnicobar</td>\n",
              "      <td>9.1833</td>\n",
              "      <td>92.7667</td>\n",
              "      <td>3</td>\n",
              "    </tr>\n",
              "    <tr>\n",
              "      <th>4</th>\n",
              "      <td>IN</td>\n",
              "      <td>744301</td>\n",
              "      <td>LAPATHY</td>\n",
              "      <td>ANDAMAN &amp; NICOBAR ISLANDS</td>\n",
              "      <td>1</td>\n",
              "      <td>NICOBAR</td>\n",
              "      <td>638.0</td>\n",
              "      <td>Carnicobar</td>\n",
              "      <td>9.1833</td>\n",
              "      <td>92.7667</td>\n",
              "      <td>3</td>\n",
              "    </tr>\n",
              "    <tr>\n",
              "      <th>...</th>\n",
              "      <td>...</td>\n",
              "      <td>...</td>\n",
              "      <td>...</td>\n",
              "      <td>...</td>\n",
              "      <td>...</td>\n",
              "      <td>...</td>\n",
              "      <td>...</td>\n",
              "      <td>...</td>\n",
              "      <td>...</td>\n",
              "      <td>...</td>\n",
              "      <td>...</td>\n",
              "    </tr>\n",
              "    <tr>\n",
              "      <th>155565</th>\n",
              "      <td>IN</td>\n",
              "      <td>508224</td>\n",
              "      <td>ARVAPALLY</td>\n",
              "      <td>TELANGANA</td>\n",
              "      <td>40</td>\n",
              "      <td>SURYAPET</td>\n",
              "      <td>696.0</td>\n",
              "      <td>Arvapally</td>\n",
              "      <td>17.4019</td>\n",
              "      <td>79.5407</td>\n",
              "      <td>3</td>\n",
              "    </tr>\n",
              "    <tr>\n",
              "      <th>155566</th>\n",
              "      <td>IN</td>\n",
              "      <td>508224</td>\n",
              "      <td>JAJIREDDY GUDEM</td>\n",
              "      <td>TELANGANA</td>\n",
              "      <td>40</td>\n",
              "      <td>SURYAPET</td>\n",
              "      <td>696.0</td>\n",
              "      <td>Arvapally</td>\n",
              "      <td>17.4019</td>\n",
              "      <td>79.5407</td>\n",
              "      <td>3</td>\n",
              "    </tr>\n",
              "    <tr>\n",
              "      <th>155567</th>\n",
              "      <td>IN</td>\n",
              "      <td>508279</td>\n",
              "      <td>NAGARAM</td>\n",
              "      <td>TELANGANA</td>\n",
              "      <td>40</td>\n",
              "      <td>SURYAPET</td>\n",
              "      <td>696.0</td>\n",
              "      <td>NAGARAM</td>\n",
              "      <td>18.1460</td>\n",
              "      <td>79.2386</td>\n",
              "      <td>4</td>\n",
              "    </tr>\n",
              "    <tr>\n",
              "      <th>155568</th>\n",
              "      <td>IN</td>\n",
              "      <td>508279</td>\n",
              "      <td>PHANIGIRI</td>\n",
              "      <td>TELANGANA</td>\n",
              "      <td>40</td>\n",
              "      <td>SURYAPET</td>\n",
              "      <td>696.0</td>\n",
              "      <td>PHANIGIRI</td>\n",
              "      <td>18.1460</td>\n",
              "      <td>79.2386</td>\n",
              "      <td>3</td>\n",
              "    </tr>\n",
              "    <tr>\n",
              "      <th>155569</th>\n",
              "      <td>IN</td>\n",
              "      <td>506345</td>\n",
              "      <td>PALAMPET</td>\n",
              "      <td>TELANGANA</td>\n",
              "      <td>40</td>\n",
              "      <td>JAYASHANKAR</td>\n",
              "      <td>NaN</td>\n",
              "      <td>Ghanpur (Mulug)</td>\n",
              "      <td>18.3000</td>\n",
              "      <td>79.9333</td>\n",
              "      <td>4</td>\n",
              "    </tr>\n",
              "  </tbody>\n",
              "</table>\n",
              "<p>155570 rows × 11 columns</p>\n",
              "</div>"
            ],
            "text/plain": [
              "       Country     PIN             City  ...      Lat      Lng Loc_accuracy\n",
              "0           IN  744301              MUS  ...   9.2333  92.7833            4\n",
              "1           IN  744301           KAKANA  ...   9.1167  92.8000            4\n",
              "2           IN  744301            SAWAI  ...   7.5166  93.6031            4\n",
              "3           IN  744301       CARNICOBAR  ...   9.1833  92.7667            3\n",
              "4           IN  744301          LAPATHY  ...   9.1833  92.7667            3\n",
              "...        ...     ...              ...  ...      ...      ...          ...\n",
              "155565      IN  508224        ARVAPALLY  ...  17.4019  79.5407            3\n",
              "155566      IN  508224  JAJIREDDY GUDEM  ...  17.4019  79.5407            3\n",
              "155567      IN  508279          NAGARAM  ...  18.1460  79.2386            4\n",
              "155568      IN  508279        PHANIGIRI  ...  18.1460  79.2386            3\n",
              "155569      IN  506345         PALAMPET  ...  18.3000  79.9333            4\n",
              "\n",
              "[155570 rows x 11 columns]"
            ]
          },
          "metadata": {
            "tags": []
          },
          "execution_count": 86
        }
      ]
    },
    {
      "cell_type": "code",
      "metadata": {
        "id": "O5wMBb6xsPxw",
        "colab_type": "code",
        "colab": {}
      },
      "source": [
        "district_wise_pin_states= city_wise_coordinates.groupby('District')['PIN','State'].agg(pd.Series.mode)\n",
        "district_wise_lat_lng= city_wise_coordinates.groupby('District')['Lat','Lng'].agg(pd.Series.mean)\n",
        "\n",
        "district_wise_data_geonames= district_wise_pin_states.merge(district_wise_lat_lng,left_on='District', right_on='District', how= 'inner').reset_index()\n",
        "#district_wise_data_geonames"
      ],
      "execution_count": 0,
      "outputs": []
    },
    {
      "cell_type": "code",
      "metadata": {
        "id": "WUxeZczZsPx0",
        "colab_type": "code",
        "outputId": "c8b95f45-86da-4f72-a2ef-127d8a49ee73",
        "colab": {
          "base_uri": "https://localhost:8080/",
          "height": 55
        }
      },
      "source": [
        "'''\n",
        "Govt_Pincode_data= pd.read_csv('Locality_village_pincode_final_mar_2017.csv',  encoding=\"ISO-8859-1\")\n",
        "\n",
        "Govt_Pincode_data.rename(columns={'Village':'City'}, inplace=True)\n",
        "Govt_Pincode_data.rename(columns={'Districtname':'District'}, inplace=True)\n",
        "Govt_Pincode_data.rename(columns={'StateName':'State'}, inplace=True)\n",
        "Govt_Pincode_data.rename(columns={'Pincode':'PIN'}, inplace=True)\n",
        "\n",
        "Govt_Pincode_data['City'] = Govt_Pincode_data['City'].str.upper()\n",
        "Govt_Pincode_data['District'] = Govt_Pincode_data['District'].str.upper()\n",
        "Govt_Pincode_data['State'] = Govt_Pincode_data['State'].str.upper()\n",
        "\n",
        "Govt_Pincode_data = Govt_Pincode_data[['City','District','PIN','State']]\n",
        "Govt_Pincode_data\n",
        "\n",
        "'''\n"
      ],
      "execution_count": 0,
      "outputs": [
        {
          "output_type": "execute_result",
          "data": {
            "text/plain": [
              "'\\nGovt_Pincode_data= pd.read_csv(\\'Locality_village_pincode_final_mar_2017.csv\\',  encoding=\"ISO-8859-1\")\\n\\nGovt_Pincode_data.rename(columns={\\'Village\\':\\'City\\'}, inplace=True)\\nGovt_Pincode_data.rename(columns={\\'Districtname\\':\\'District\\'}, inplace=True)\\nGovt_Pincode_data.rename(columns={\\'StateName\\':\\'State\\'}, inplace=True)\\nGovt_Pincode_data.rename(columns={\\'Pincode\\':\\'PIN\\'}, inplace=True)\\n\\nGovt_Pincode_data[\\'City\\'] = Govt_Pincode_data[\\'City\\'].str.upper()\\nGovt_Pincode_data[\\'District\\'] = Govt_Pincode_data[\\'District\\'].str.upper()\\nGovt_Pincode_data[\\'State\\'] = Govt_Pincode_data[\\'State\\'].str.upper()\\n\\nGovt_Pincode_data = Govt_Pincode_data[[\\'City\\',\\'District\\',\\'PIN\\',\\'State\\']]\\nGovt_Pincode_data\\n\\n'"
            ]
          },
          "metadata": {
            "tags": []
          },
          "execution_count": 88
        }
      ]
    },
    {
      "cell_type": "code",
      "metadata": {
        "id": "yrge2tLosPx3",
        "colab_type": "code",
        "colab": {}
      },
      "source": [
        ""
      ],
      "execution_count": 0,
      "outputs": []
    },
    {
      "cell_type": "code",
      "metadata": {
        "id": "NnhW9hLWsPx5",
        "colab_type": "code",
        "colab": {}
      },
      "source": [
        "#PIN_wise_coordinates= city_wise_coordinates.groupby('PIN').agg({'Lat': 'mean', 'Lng': 'mean'}).reset_index()\n",
        "#PIN_wise_coordinates"
      ],
      "execution_count": 0,
      "outputs": []
    },
    {
      "cell_type": "code",
      "metadata": {
        "id": "3kb7QTNRsPx8",
        "colab_type": "code",
        "colab": {}
      },
      "source": [
        "df= pd.read_json(\"https://api.covid19india.org/raw_data.json\")## data from covid19india.org\n",
        "df3= []\n",
        "for row in range(0,df.shape[0]):\n",
        "    df1= df['raw_data'][row]\n",
        "    df2=pd.DataFrame(df1.items()).set_index(0)\n",
        "    df3.append(df2.T)\n",
        "                \n",
        "appended_data = pd.concat(df3, sort=False)\n",
        "appended_data.replace(r'^\\s*$', np.nan, regex=True, inplace = True) \n",
        "appended_data.rename(columns={'detectedcity':'City'}, inplace=True)\n",
        "appended_data.rename(columns={'detecteddistrict':'District'}, inplace=True)\n",
        "appended_data.rename(columns={'detectedstate':'State'}, inplace=True)\n",
        "\n",
        "appended_data['City'] = appended_data['City'].str.lower()\n",
        "appended_data['District'] = appended_data['District'].str.lower()\n",
        "appended_data['State'] = appended_data['State'].str.lower()\n",
        "appended_data= appended_data.dropna(thresh=3)\n",
        "#appended_data\n"
      ],
      "execution_count": 0,
      "outputs": []
    },
    {
      "cell_type": "code",
      "metadata": {
        "id": "8gaic_z5sPx_",
        "colab_type": "code",
        "colab": {}
      },
      "source": [
        "district_wise_counts= appended_data.groupby('District').agg({'patientnumber': 'count'})\n",
        "district_wise_counts.rename(columns={'patientnumber':'d_patient_counts'}, inplace=True)\n",
        "district_wise_counts =district_wise_counts.reset_index()\n",
        "district_wise_counts['District'] = district_wise_counts['District'].str.upper()\n",
        "#district_wise_counts"
      ],
      "execution_count": 0,
      "outputs": []
    },
    {
      "cell_type": "code",
      "metadata": {
        "id": "6KK4qJpFsPyB",
        "colab_type": "code",
        "outputId": "f96e0fbb-ebe4-448b-9828-04d60b9c097b",
        "colab": {
          "base_uri": "https://localhost:8080/",
          "height": 55
        }
      },
      "source": [
        "'''\n",
        "city_wise_counts= appended_data.groupby('City').agg({'patientnumber': 'count'})\n",
        "city_wise_counts.rename(columns={'patientnumber':'c_patient_counts'}, inplace=True)\n",
        "city_wise_counts\n",
        "'''"
      ],
      "execution_count": 0,
      "outputs": [
        {
          "output_type": "execute_result",
          "data": {
            "text/plain": [
              "\"\\ncity_wise_counts= appended_data.groupby('City').agg({'patientnumber': 'count'})\\ncity_wise_counts.rename(columns={'patientnumber':'c_patient_counts'}, inplace=True)\\ncity_wise_counts\\n\""
            ]
          },
          "metadata": {
            "tags": []
          },
          "execution_count": 92
        }
      ]
    },
    {
      "cell_type": "code",
      "metadata": {
        "id": "HBbe0gtwsPyE",
        "colab_type": "code",
        "outputId": "2e0d6722-8e98-4f46-b7df-e4c57c4fbe63",
        "colab": {
          "base_uri": "https://localhost:8080/",
          "height": 55
        }
      },
      "source": [
        "'''\n",
        "\n",
        "state_wise_counts= appended_data.groupby('State').agg({'patientnumber': 'count'})\n",
        "state_wise_counts.rename(columns={'patientnumber':'s_patient_counts'}, inplace=True)\n",
        "state_wise_counts\n",
        "\n",
        "'''\n"
      ],
      "execution_count": 0,
      "outputs": [
        {
          "output_type": "execute_result",
          "data": {
            "text/plain": [
              "\"\\n\\nstate_wise_counts= appended_data.groupby('State').agg({'patientnumber': 'count'})\\nstate_wise_counts.rename(columns={'patientnumber':'s_patient_counts'}, inplace=True)\\nstate_wise_counts\\n\\n\""
            ]
          },
          "metadata": {
            "tags": []
          },
          "execution_count": 93
        }
      ]
    },
    {
      "cell_type": "code",
      "metadata": {
        "id": "ySSlILfdsPyI",
        "colab_type": "code",
        "colab": {}
      },
      "source": [
        "corona_db_with_latlng= district_wise_counts.merge(district_wise_data_geonames, left_on='District', right_on='District', how= 'inner')\n",
        "corona_db_with_latlng.rename(columns={'d_patient_counts':'Num_Positive_cases'}, inplace=True)\n",
        "#corona_db_with_latlng"
      ],
      "execution_count": 0,
      "outputs": []
    },
    {
      "cell_type": "code",
      "metadata": {
        "id": "mpUWl0IvsPyK",
        "colab_type": "code",
        "colab": {}
      },
      "source": [
        "import warnings\n",
        "warnings.filterwarnings(\"ignore\")"
      ],
      "execution_count": 0,
      "outputs": []
    },
    {
      "cell_type": "code",
      "metadata": {
        "id": "v9uEs-cSsPyM",
        "colab_type": "code",
        "colab": {}
      },
      "source": [
        "def get_idx_distance_from_query_locations(q_lat, q_lng, corona_db_with_latlng):\n",
        "    dist_array=[]\n",
        "    for index, row in corona_db_with_latlng.iterrows():\n",
        "        dist= int(get_distance_between_lats_lons(q_lat,q_lng,row['Lat'],row['Lng']))\n",
        "        dist_array.append(dist)\n",
        "    \n",
        "    minpos = dist_array.index(min(dist_array)) \n",
        "    mindist= dist_array[minpos]\n",
        "    cases= corona_db_with_latlng.loc[minpos,'Num_Positive_cases']\n",
        "    location= corona_db_with_latlng.loc[minpos,'District']\n",
        "    state= corona_db_with_latlng.loc[minpos,'State']\n",
        "    Lats= corona_db_with_latlng.loc[minpos,'Lat']\n",
        "    Lngs= corona_db_with_latlng.loc[minpos,'Lng']\n",
        "\n",
        "    return(mindist, cases, location, state)"
      ],
      "execution_count": 0,
      "outputs": []
    },
    {
      "cell_type": "code",
      "metadata": {
        "id": "Jsu_Xeb1sPyO",
        "colab_type": "code",
        "colab": {}
      },
      "source": [
        "def get_nearest_covid19_stats(query_info,corona_db_with_latlng):\n",
        "    if query_info.PIN.iloc[1] in corona_db_with_latlng['PIN'].values:\n",
        "        mindist= 2\n",
        "        Lat= corona_db_with_latlng.loc[corona_db_with_latlng.PIN==query_info.PIN.iloc[1], 'Lat'];\n",
        "        Lng= corona_db_with_latlng.loc[corona_db_with_latlng.PIN==query_info.PIN.iloc[1], 'Lng'];\n",
        "        mindist= int(get_distance_between_lats_lons(query_info.Lat.iloc[1] ,query_info.Lng.iloc[1], Lat,Lng))\n",
        "        cases= corona_db_with_latlng.loc[corona_db_with_latlng.PIN==query_info.PIN.iloc[1], 'Num_Positive_cases']\n",
        "        district= corona_db_with_latlng.loc[corona_db_with_latlng.PIN==query_info.PIN.iloc[1], 'District']\n",
        "        state= corona_db_with_latlng.loc[corona_db_with_latlng.PIN==query_info.PIN.iloc[1], 'State']\n",
        "        print(\"The nearest location with COVID-19 from your PIN is in your own Postal Location with {} number of positive cases\".format(cases.values[0]))\n",
        "        print(\"Location: {} , {}\".format(district.values[0].upper(), state.values[0].upper()))\n",
        "    else:\n",
        "        (mindist, cases, district, state) = get_idx_distance_from_query_locations(query_info.Lat.iloc[1] ,query_info.Lng.iloc[1], corona_db_with_latlng)  \n",
        "        print(\"The nearest location with COVID-19 from your PIN is within {} km with {} number of positive cases\".format(mindist, cases))\n",
        "        print(\"Location: {} , {}\".format(district.upper(), state.upper()))"
      ],
      "execution_count": 0,
      "outputs": []
    },
    {
      "cell_type": "code",
      "metadata": {
        "id": "GtCKWUijsPyQ",
        "colab_type": "code",
        "colab": {}
      },
      "source": [
        ""
      ],
      "execution_count": 0,
      "outputs": []
    },
    {
      "cell_type": "code",
      "metadata": {
        "id": "9h-qLRDbsPyS",
        "colab_type": "code",
        "outputId": "be94c6e8-f972-4efb-80dc-aea2c6454506",
        "colab": {
          "base_uri": "https://localhost:8080/",
          "height": 91
        }
      },
      "source": [
        "query_pincode = input(\"Enter your location as an Indian PIN  : \") \n",
        "g = int(query_pincode)\n",
        "\n",
        "if g in city_wise_coordinates.PIN.values:\n",
        "    query_info= city_wise_coordinates[city_wise_coordinates.PIN == int(g)]\n",
        "    get_nearest_covid19_stats(query_info,corona_db_with_latlng)\n",
        "else:\n",
        "    print('You entered an Invalid PIN')"
      ],
      "execution_count": 0,
      "outputs": [
        {
          "output_type": "stream",
          "text": [
            "Enter your location as an Indian PIN  : 826001\n",
            "The nearest location with COVID-19 from your PIN is within 129 km with 3 number of positive cases\n",
            "Location: MUNGER , BIHAR\n"
          ],
          "name": "stdout"
        }
      ]
    },
    {
      "cell_type": "code",
      "metadata": {
        "id": "qkQMP9NWsPyV",
        "colab_type": "code",
        "colab": {}
      },
      "source": [
        ""
      ],
      "execution_count": 0,
      "outputs": []
    },
    {
      "cell_type": "code",
      "metadata": {
        "id": "tO8UR0eYsPyX",
        "colab_type": "code",
        "colab": {}
      },
      "source": [
        ""
      ],
      "execution_count": 0,
      "outputs": []
    },
    {
      "cell_type": "code",
      "metadata": {
        "id": "gqvc-uArsPyZ",
        "colab_type": "code",
        "colab": {}
      },
      "source": [
        ""
      ],
      "execution_count": 0,
      "outputs": []
    }
  ]
}